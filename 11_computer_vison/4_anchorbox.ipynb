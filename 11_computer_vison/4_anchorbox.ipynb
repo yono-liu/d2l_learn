{
 "cells": [
  {
   "cell_type": "code",
   "execution_count": null,
   "source": [
    "import torch\r\n",
    "from d2l import torch as d2l\r\n",
    "\r\n",
    "torch.set_printoptions(2) #精简打印精度"
   ],
   "outputs": [],
   "metadata": {}
  },
  {
   "cell_type": "code",
   "execution_count": null,
   "source": [
    "def multibox_prior(data, sizes, ratios):\r\n",
    "    '''生成以每个像素为中心具有不同形状的锚框'''\r\n",
    "    "
   ],
   "outputs": [],
   "metadata": {}
  }
 ],
 "metadata": {
  "orig_nbformat": 4,
  "language_info": {
   "name": "python"
  }
 },
 "nbformat": 4,
 "nbformat_minor": 2
}