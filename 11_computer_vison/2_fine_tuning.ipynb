{
 "cells": [
  {
   "cell_type": "code",
   "execution_count": null,
   "source": [
    "import torch\r\n",
    "import os\r\n",
    "import torchvision\r\n",
    "from torch import nn\r\n",
    "from d2l import torch as d2l"
   ],
   "outputs": [],
   "metadata": {}
  },
  {
   "cell_type": "code",
   "execution_count": null,
   "source": [
    "d2l.DATA_HUB['hotdog'] = (d2l.DATA_URL + 'hotdog.zip', 'fba480ffa8aa7e0febbb511d181409f899b9baa5')\r\n",
    "data_dir = d2l.download_extract('hotdog')"
   ],
   "outputs": [],
   "metadata": {}
  },
  {
   "cell_type": "code",
   "execution_count": null,
   "source": [
    "train_imgs = torchvision.datasets.ImageFolder(os.path.join(data_dir, 'train'))\r\n",
    "test_imgs = torchvision.datasets.ImageFolder(os.path.join(data_dir, 'test'))\r\n",
    "hotdogs = [train_imgs[i][0] for i in range(8)]\r\n",
    "not_hotdogs = [train_imgs[-i-1][0] for i in range(8)]\r\n",
    "d2l.show_images(hotdogs + not_hotdogs, 2, 8, scale=1.4)"
   ],
   "outputs": [],
   "metadata": {}
  },
  {
   "cell_type": "code",
   "execution_count": null,
   "source": [
    "# 使用三个RGB通道的均值和标准差，标准化每个通道\r\n",
    "normalize = torchvision.transforms.Normalize([0.485, 0.456, 0.406], [0.229, 0.224, 0.225])\r\n",
    "train_augs = torchvision.transforms.Compose([\r\n",
    "    torchvision.transforms.RandomResizedCrop(224),\r\n",
    "    torchvision.transforms.RandomHorizontalFlip(),\r\n",
    "    torchvision.transforms.ToTensor(),\r\n",
    "    normalize\r\n",
    "])\r\n",
    "\r\n",
    "test_augs = torchvision.transforms.Compose([\r\n",
    "    torchvision.transforms.Resize(256),\r\n",
    "    torchvision.transforms.CenterCrop(224),\r\n",
    "    torchvision.transforms.ToTensor(),\r\n",
    "    normalize\r\n",
    "])\r\n"
   ],
   "outputs": [],
   "metadata": {}
  },
  {
   "cell_type": "code",
   "execution_count": null,
   "source": [
    "pretrained_net = torchvision.models.resnet18(pretrained=True)\r\n",
    "pretrained_net.fc"
   ],
   "outputs": [],
   "metadata": {}
  }
 ],
 "metadata": {
  "orig_nbformat": 4,
  "language_info": {
   "name": "python",
   "version": "3.7.10",
   "mimetype": "text/x-python",
   "codemirror_mode": {
    "name": "ipython",
    "version": 3
   },
   "pygments_lexer": "ipython3",
   "nbconvert_exporter": "python",
   "file_extension": ".py"
  },
  "kernelspec": {
   "name": "python3",
   "display_name": "Python 3.7.10 64-bit ('pytorch_gpu': conda)"
  },
  "interpreter": {
   "hash": "84b5a4a264b5f2401190ed1ffcbfa61bd7e26a5993c8ba59c52f05bbd4b966aa"
  }
 },
 "nbformat": 4,
 "nbformat_minor": 2
}