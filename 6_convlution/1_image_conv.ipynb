{
 "cells": [
  {
   "cell_type": "code",
   "execution_count": 1,
   "source": [
    "import torch\r\n",
    "from torch import nn\r\n",
    "from d2l import torch as d2l\r\n",
    "\r\n",
    "def corr2d(X, K):\r\n",
    "    \"\"\"计算二维互相关运算\"\"\"\r\n",
    "    h, w = K.shape\r\n",
    "    Y = torch.zeros((X.shape[0] - h + 1, X.shape[1] - w + 1))\r\n",
    "    for i in range(Y.shape[0]):\r\n",
    "        for j in range(Y.shape[1]):\r\n",
    "            Y[i, j] = (X[i:i+h, j:j+w] * K).sum()\r\n",
    "    return Y\r\n"
   ],
   "outputs": [],
   "metadata": {}
  },
  {
   "cell_type": "code",
   "execution_count": 2,
   "source": [
    "X = torch.tensor([[0.,1.,2.], [3.,4.,5.], [6.,7.,8.]])\r\n",
    "K = torch.tensor([[0., 1.], [2., 3.]])\r\n",
    "corr2d(X, K)"
   ],
   "outputs": [
    {
     "output_type": "execute_result",
     "data": {
      "text/plain": [
       "tensor([[19., 25.],\n",
       "        [37., 43.]])"
      ]
     },
     "metadata": {},
     "execution_count": 2
    }
   ],
   "metadata": {}
  },
  {
   "cell_type": "code",
   "execution_count": 3,
   "source": [
    "# 实现二维卷积层\r\n",
    "class Conv2D(nn.Module):\r\n",
    "    def __init__(self, kernel_size):\r\n",
    "        super().__init__()\r\n",
    "        self.weight = nn.Parameter(torch.rand(kernel_size))\r\n",
    "        self.bias = nn.Parameter(torch.zeros(1))\r\n",
    "\r\n",
    "    def forward(self, x):\r\n",
    "        return corr2d(x, self.weight) + self.bias"
   ],
   "outputs": [],
   "metadata": {}
  },
  {
   "cell_type": "code",
   "execution_count": 9,
   "source": [
    "# 垂直边缘检测\r\n",
    "x = torch.ones((6, 8))\r\n",
    "x[:, 2:6] = 0\r\n",
    "K = torch.tensor([[1. ,-1.]])\r\n",
    "Y = corr2d(x, K)\r\n",
    "print(Y)\r\n",
    "corr2d(x.t(), K) #只能检测垂直边缘，水平边缘无法检测"
   ],
   "outputs": [
    {
     "output_type": "stream",
     "name": "stdout",
     "text": [
      "tensor([[ 0.,  1.,  0.,  0.,  0., -1.,  0.],\n",
      "        [ 0.,  1.,  0.,  0.,  0., -1.,  0.],\n",
      "        [ 0.,  1.,  0.,  0.,  0., -1.,  0.],\n",
      "        [ 0.,  1.,  0.,  0.,  0., -1.,  0.],\n",
      "        [ 0.,  1.,  0.,  0.,  0., -1.,  0.],\n",
      "        [ 0.,  1.,  0.,  0.,  0., -1.,  0.]])\n"
     ]
    },
    {
     "output_type": "execute_result",
     "data": {
      "text/plain": [
       "tensor([[0., 0., 0., 0., 0.],\n",
       "        [0., 0., 0., 0., 0.],\n",
       "        [0., 0., 0., 0., 0.],\n",
       "        [0., 0., 0., 0., 0.],\n",
       "        [0., 0., 0., 0., 0.],\n",
       "        [0., 0., 0., 0., 0.],\n",
       "        [0., 0., 0., 0., 0.],\n",
       "        [0., 0., 0., 0., 0.]])"
      ]
     },
     "metadata": {},
     "execution_count": 9
    }
   ],
   "metadata": {}
  },
  {
   "cell_type": "code",
   "execution_count": 10,
   "source": [
    "# 学习卷积核\r\n",
    "# 构造一个二维卷积层，输入和输出通道都为1，形状为(1,2)\r\n",
    "conv2d = nn.Conv2d(1, 1, kernel_size=(1, 2), bias = False)\r\n",
    "\r\n",
    "# batchsize, channel. height, weight\r\n",
    "X = x.reshape((1, 1, 6, 8))\r\n",
    "Y = Y.reshape((1, 1, 6, 7))\r\n",
    "\r\n",
    "for i in range(10):\r\n",
    "    Y_hat = conv2d(X)\r\n",
    "    l = (Y_hat - Y) ** 2\r\n",
    "    conv2d.zero_grad()\r\n",
    "    l.sum().backward()\r\n",
    "    #迭代卷积核\r\n",
    "    conv2d.weight.data[:] -= 3e-2 * conv2d.weight.grad\r\n",
    "    if (i + 1) % 2 == 0:\r\n",
    "        print(f'batch{i+1}, loss {l.sum():.3f}')"
   ],
   "outputs": [
    {
     "output_type": "stream",
     "name": "stdout",
     "text": [
      "batch2, loss 7.111\n",
      "batch4, loss 2.302\n",
      "batch6, loss 0.840\n",
      "batch8, loss 0.327\n",
      "batch10, loss 0.131\n"
     ]
    }
   ],
   "metadata": {}
  },
  {
   "cell_type": "code",
   "execution_count": 11,
   "source": [
    "conv2d.weight.data.reshape((1, 2))"
   ],
   "outputs": [
    {
     "output_type": "execute_result",
     "data": {
      "text/plain": [
       "tensor([[ 1.0288, -0.9546]])"
      ]
     },
     "metadata": {},
     "execution_count": 11
    }
   ],
   "metadata": {}
  },
  {
   "cell_type": "code",
   "execution_count": 14,
   "source": [
    "X = torch.tensor([[ 1.,  0.,  0.,  0.,  0., 0.,  0.],\r\n",
    "        [ 0.,  1.,  0.,  0.,  0., 0.,  0.],\r\n",
    "        [ 0.,  0.,  1.,  0.,  0., 0.,  0.],\r\n",
    "        [ 0.,  0.,  0.,  1.,  0., 0.,  0.],\r\n",
    "        [ 0.,  0.,  0.,  0.,  1., 0.,  0.],\r\n",
    "        [ 0.,  0.,  0.,  0.,  0., 1.,  0.],\r\n",
    "        [ 0.,  0.,  0.,  0.,  0., 0.,  1.]])\r\n",
    "\r\n",
    "K = torch.tensor([[1. ,-1.]])\r\n",
    "corr2d(X, K)"
   ],
   "outputs": [
    {
     "output_type": "execute_result",
     "data": {
      "text/plain": [
       "tensor([[ 1.,  0.,  0.,  0.,  0.,  0.],\n",
       "        [-1.,  1.,  0.,  0.,  0.,  0.],\n",
       "        [ 0., -1.,  1.,  0.,  0.,  0.],\n",
       "        [ 0.,  0., -1.,  1.,  0.,  0.],\n",
       "        [ 0.,  0.,  0., -1.,  1.,  0.],\n",
       "        [ 0.,  0.,  0.,  0., -1.,  1.],\n",
       "        [ 0.,  0.,  0.,  0.,  0., -1.]])"
      ]
     },
     "metadata": {},
     "execution_count": 14
    }
   ],
   "metadata": {}
  },
  {
   "cell_type": "code",
   "execution_count": 16,
   "source": [
    "corr2d(X.t(), K)"
   ],
   "outputs": [
    {
     "output_type": "execute_result",
     "data": {
      "text/plain": [
       "tensor([[ 1.,  0.,  0.,  0.,  0.,  0.],\n",
       "        [-1.,  1.,  0.,  0.,  0.,  0.],\n",
       "        [ 0., -1.,  1.,  0.,  0.,  0.],\n",
       "        [ 0.,  0., -1.,  1.,  0.,  0.],\n",
       "        [ 0.,  0.,  0., -1.,  1.,  0.],\n",
       "        [ 0.,  0.,  0.,  0., -1.,  1.],\n",
       "        [ 0.,  0.,  0.,  0.,  0., -1.]])"
      ]
     },
     "metadata": {},
     "execution_count": 16
    }
   ],
   "metadata": {}
  },
  {
   "cell_type": "code",
   "execution_count": 17,
   "source": [
    "corr2d(X, K.t())"
   ],
   "outputs": [
    {
     "output_type": "execute_result",
     "data": {
      "text/plain": [
       "tensor([[ 1., -1.,  0.,  0.,  0.,  0.,  0.],\n",
       "        [ 0.,  1., -1.,  0.,  0.,  0.,  0.],\n",
       "        [ 0.,  0.,  1., -1.,  0.,  0.,  0.],\n",
       "        [ 0.,  0.,  0.,  1., -1.,  0.,  0.],\n",
       "        [ 0.,  0.,  0.,  0.,  1., -1.,  0.],\n",
       "        [ 0.,  0.,  0.,  0.,  0.,  1., -1.]])"
      ]
     },
     "metadata": {},
     "execution_count": 17
    }
   ],
   "metadata": {}
  }
 ],
 "metadata": {
  "orig_nbformat": 4,
  "language_info": {
   "name": "python",
   "version": "3.7.10",
   "mimetype": "text/x-python",
   "codemirror_mode": {
    "name": "ipython",
    "version": 3
   },
   "pygments_lexer": "ipython3",
   "nbconvert_exporter": "python",
   "file_extension": ".py"
  },
  "kernelspec": {
   "name": "python3",
   "display_name": "Python 3.7.10 64-bit ('pytorch_gpu': conda)"
  },
  "interpreter": {
   "hash": "84b5a4a264b5f2401190ed1ffcbfa61bd7e26a5993c8ba59c52f05bbd4b966aa"
  }
 },
 "nbformat": 4,
 "nbformat_minor": 2
}