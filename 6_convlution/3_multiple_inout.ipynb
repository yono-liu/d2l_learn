{
 "cells": [
  {
   "cell_type": "code",
   "execution_count": 2,
   "source": [
    "import torch\r\n",
    "from d2l import torch as d2l\r\n",
    "\r\n",
    "# 多通道输入\r\n",
    "def corr2d_multi_in(X, K):\r\n",
    "    # 遍历 X 和 K 的第0维度（通道维度）,然后每一个通道求卷积，最后sum\r\n",
    "    return sum(d2l.corr2d(x, k) for x, k in zip(X, K))"
   ],
   "outputs": [],
   "metadata": {}
  },
  {
   "cell_type": "code",
   "execution_count": 3,
   "source": [
    "X = torch.tensor([[[0.0, 1.0, 2.0], [3.0, 4.0, 5.0], [6.0, 7.0, 8.0]],\r\n",
    "[[1.0, 2.0, 3.0], [4.0, 5.0, 6.0], [7.0, 8.0, 9.0]]])\r\n",
    "K = torch.tensor([[[0.0, 1.0],[2.0, 3.0]],[[1.0, 2.0],[3.0, 4.0]]])\r\n",
    "\r\n",
    "corr2d_multi_in(X, K)"
   ],
   "outputs": [
    {
     "output_type": "execute_result",
     "data": {
      "text/plain": [
       "tensor([[ 56.,  72.],\n",
       "        [104., 120.]])"
      ]
     },
     "metadata": {},
     "execution_count": 3
    }
   ],
   "metadata": {}
  },
  {
   "cell_type": "code",
   "execution_count": 4,
   "source": [
    "# 多通道输出\r\n",
    "def corr2d_multi_in_out(X, K):\r\n",
    "    # 迭代 K 的第 0 维，每次都进行一次（多通道输入）卷积操作，最后再stack在一起\r\n",
    "    return torch.stack([corr2d_multi_in(X, k) for k in K], 0)\r\n",
    "\r\n",
    "K = torch.stack((K, K+1, K+2), 0) # 具有三个输出通道的卷积核，k+1 表示每个元素 +1\r\n",
    "K.shape"
   ],
   "outputs": [
    {
     "output_type": "execute_result",
     "data": {
      "text/plain": [
       "torch.Size([3, 2, 2, 2])"
      ]
     },
     "metadata": {},
     "execution_count": 4
    }
   ],
   "metadata": {}
  },
  {
   "cell_type": "code",
   "execution_count": 5,
   "source": [
    "corr2d_multi_in_out(X, K)"
   ],
   "outputs": [
    {
     "output_type": "execute_result",
     "data": {
      "text/plain": [
       "tensor([[[ 56.,  72.],\n",
       "         [104., 120.]],\n",
       "\n",
       "        [[ 76., 100.],\n",
       "         [148., 172.]],\n",
       "\n",
       "        [[ 96., 128.],\n",
       "         [192., 224.]]])"
      ]
     },
     "metadata": {},
     "execution_count": 5
    }
   ],
   "metadata": {}
  },
  {
   "cell_type": "code",
   "execution_count": 6,
   "source": [
    "def corr2d_multi_in_out_1x1(X, K):\r\n",
    "    c_i, h, w = X.shape\r\n",
    "    c_o = K.shape[0]\r\n",
    "    X = X.reshape((c_i, h * w))\r\n",
    "    K = K.reshape((c_o, c_i))\r\n",
    "    Y = torch.matmul(K, X)\r\n",
    "    return Y.reshape((c_o, h, w))"
   ],
   "outputs": [],
   "metadata": {}
  },
  {
   "cell_type": "code",
   "execution_count": 7,
   "source": [
    "X = torch.normal(0, 1, (3, 3, 3))\r\n",
    "K = torch.normal(0, 1, (2, 3, 1, 1))\r\n",
    "\r\n",
    "Y1 = corr2d_multi_in_out_1x1(X, K)\r\n",
    "Y2 = corr2d_multi_in_out(X, K)\r\n",
    "assert float(torch.abs(Y1 - Y2).sum()) < 1e-6"
   ],
   "outputs": [],
   "metadata": {}
  }
 ],
 "metadata": {
  "orig_nbformat": 4,
  "language_info": {
   "name": "python",
   "version": "3.7.10",
   "mimetype": "text/x-python",
   "codemirror_mode": {
    "name": "ipython",
    "version": 3
   },
   "pygments_lexer": "ipython3",
   "nbconvert_exporter": "python",
   "file_extension": ".py"
  },
  "kernelspec": {
   "name": "python3",
   "display_name": "Python 3.7.10 64-bit ('pytorch_gpu': conda)"
  },
  "interpreter": {
   "hash": "84b5a4a264b5f2401190ed1ffcbfa61bd7e26a5993c8ba59c52f05bbd4b966aa"
  }
 },
 "nbformat": 4,
 "nbformat_minor": 2
}