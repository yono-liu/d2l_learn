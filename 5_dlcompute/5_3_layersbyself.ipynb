{
 "cells": [
  {
   "cell_type": "code",
   "execution_count": 4,
   "source": [
    "# 下⾯的CenteredLayer类要从其输⼊中减去均值\r\n",
    "\r\n",
    "import torch\r\n",
    "import torch.nn.functional as F\r\n",
    "from torch import nn\r\n",
    "\r\n",
    "class CenteredLayer(nn.Module):\r\n",
    "    def __init__(self):\r\n",
    "        super().__init__()\r\n",
    "\r\n",
    "    def forward(self, X):\r\n",
    "        return X - X.mean()"
   ],
   "outputs": [],
   "metadata": {}
  },
  {
   "cell_type": "code",
   "execution_count": 6,
   "source": [
    "layer = CenteredLayer()\r\n",
    "net = nn.Sequential(nn.Linear(8, 128), CenteredLayer())\r\n",
    "Y = net(torch.rand(4, 8))\r\n",
    "Y.mean()"
   ],
   "outputs": [
    {
     "output_type": "execute_result",
     "data": {
      "text/plain": [
       "tensor(-9.3132e-10, grad_fn=<MeanBackward0>)"
      ]
     },
     "metadata": {},
     "execution_count": 6
    }
   ],
   "metadata": {}
  },
  {
   "cell_type": "markdown",
   "source": [
    "## 5.3.2 带参数的层"
   ],
   "metadata": {}
  },
  {
   "cell_type": "code",
   "execution_count": 10,
   "source": [
    "# 自定义版本的全连接层\r\n",
    "class MyLinear(nn.Module):\r\n",
    "    def __init__(self, in_channel, out):\r\n",
    "        super().__init__()\r\n",
    "        self.weight = nn.Parameter(torch.randn(in_channel, out))\r\n",
    "        self.bias = nn.Parameter(torch.randn(out,))\r\n",
    "\r\n",
    "    def forward(self, X):\r\n",
    "        linear = torch.matmul(X, self.weight.data) + self.bias.data\r\n",
    "        return F.relu(linear)\r\n",
    "\r\n",
    "linear = MyLinear(5, 3)\r\n",
    "linear.weight"
   ],
   "outputs": [
    {
     "output_type": "execute_result",
     "data": {
      "text/plain": [
       "Parameter containing:\n",
       "tensor([[ 0.2519, -0.8000,  1.4735],\n",
       "        [-0.0127,  1.8063,  0.4750],\n",
       "        [ 0.2314,  0.4157, -0.7733],\n",
       "        [ 0.1778,  2.1227,  2.5325],\n",
       "        [ 0.3823,  0.4991, -0.1685]], requires_grad=True)"
      ]
     },
     "metadata": {},
     "execution_count": 10
    }
   ],
   "metadata": {}
  },
  {
   "cell_type": "code",
   "execution_count": 12,
   "source": [
    "\r\n",
    "linear(torch.rand(2, 5))\r\n",
    "net = nn.Sequential(MyLinear(64, 8), nn.Linear(8, 1))\r\n",
    "net(torch.rand(2, 64))"
   ],
   "outputs": [
    {
     "output_type": "execute_result",
     "data": {
      "text/plain": [
       "tensor([[-2.2017],\n",
       "        [-1.3419]], grad_fn=<AddmmBackward>)"
      ]
     },
     "metadata": {},
     "execution_count": 12
    }
   ],
   "metadata": {}
  }
 ],
 "metadata": {
  "orig_nbformat": 4,
  "language_info": {
   "name": "python",
   "version": "3.7.10",
   "mimetype": "text/x-python",
   "codemirror_mode": {
    "name": "ipython",
    "version": 3
   },
   "pygments_lexer": "ipython3",
   "nbconvert_exporter": "python",
   "file_extension": ".py"
  },
  "kernelspec": {
   "name": "python3",
   "display_name": "Python 3.7.10 64-bit ('pytorch_gpu': conda)"
  },
  "interpreter": {
   "hash": "84b5a4a264b5f2401190ed1ffcbfa61bd7e26a5993c8ba59c52f05bbd4b966aa"
  }
 },
 "nbformat": 4,
 "nbformat_minor": 2
}