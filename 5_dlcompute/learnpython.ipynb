{
 "cells": [
  {
   "cell_type": "code",
   "execution_count": 7,
   "source": [
    "list = ['red', 'green', 'blue', 'yellow', 'white', 'black']\r\n",
    "print(list[1])\r\n",
    "list.append('purple')\r\n",
    "print(list)\r\n",
    "list.count('red')\r\n",
    "list.remove('red')\r\n",
    "list1 = list.copy()\r\n",
    "list1"
   ],
   "outputs": [
    {
     "output_type": "stream",
     "name": "stdout",
     "text": [
      "green\n",
      "['red', 'green', 'blue', 'yellow', 'white', 'black', 'purple']\n"
     ]
    },
    {
     "output_type": "execute_result",
     "data": {
      "text/plain": [
       "['green', 'blue', 'yellow', 'white', 'black', 'purple']"
      ]
     },
     "metadata": {},
     "execution_count": 7
    }
   ],
   "metadata": {}
  },
  {
   "cell_type": "markdown",
   "source": [
    "## 元祖不可修改、字典｛｝\r\n"
   ],
   "metadata": {}
  },
  {
   "cell_type": "code",
   "execution_count": 10,
   "source": [
    "# numpy数组\r\n",
    "import numpy as np\r\n",
    "a = np.array([1,2,3])\r\n",
    "print(a.size)\r\n",
    "x = [1,2,3]\r\n",
    "x = np.asarray(x)\r\n",
    "y = (1, 2, 3)\r\n",
    "y = np.asarray(y,dtype=float)\r\n",
    "y = np.arange(0,10,5)\r\n",
    "y"
   ],
   "outputs": [
    {
     "output_type": "stream",
     "name": "stdout",
     "text": [
      "3\n"
     ]
    },
    {
     "output_type": "execute_result",
     "data": {
      "text/plain": [
       "array([0, 5])"
      ]
     },
     "metadata": {},
     "execution_count": 10
    }
   ],
   "metadata": {}
  }
 ],
 "metadata": {
  "orig_nbformat": 4,
  "language_info": {
   "name": "python",
   "version": "3.7.10",
   "mimetype": "text/x-python",
   "codemirror_mode": {
    "name": "ipython",
    "version": 3
   },
   "pygments_lexer": "ipython3",
   "nbconvert_exporter": "python",
   "file_extension": ".py"
  },
  "kernelspec": {
   "name": "python3",
   "display_name": "Python 3.7.10 64-bit ('pytorch_gpu': conda)"
  },
  "interpreter": {
   "hash": "84b5a4a264b5f2401190ed1ffcbfa61bd7e26a5993c8ba59c52f05bbd4b966aa"
  }
 },
 "nbformat": 4,
 "nbformat_minor": 2
}