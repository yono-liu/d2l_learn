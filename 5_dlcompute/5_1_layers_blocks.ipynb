{
 "cells": [
  {
   "cell_type": "code",
   "execution_count": 1,
   "source": [
    "import torch\r\n",
    "from torch import nn\r\n",
    "from torch.nn import functional as F\r\n",
    "\r\n",
    "net = nn.Sequential(nn.Linear(20, 256), nn.ReLU(), nn.Linear(256,10))\r\n",
    "\r\n",
    "X = torch.rand(2, 20)\r\n",
    "net(X)"
   ],
   "outputs": [
    {
     "output_type": "execute_result",
     "data": {
      "text/plain": [
       "tensor([[ 0.1174,  0.1093,  0.1092,  0.0613, -0.0462, -0.0293,  0.0116,  0.1052,\n",
       "          0.1681,  0.0861],\n",
       "        [ 0.1810,  0.0211,  0.0843,  0.1078, -0.1168, -0.0021, -0.1787,  0.2286,\n",
       "         -0.0326,  0.2516]], grad_fn=<AddmmBackward>)"
      ]
     },
     "metadata": {},
     "execution_count": 1
    }
   ],
   "metadata": {}
  },
  {
   "cell_type": "code",
   "execution_count": 3,
   "source": [
    "class MLP(nn.Module):\r\n",
    "    def __init__(self):\r\n",
    "        super().__init__()\r\n",
    "        self.hidden = nn.Linear(20, 256)\r\n",
    "        self.out = nn.Linear(256, 10)\r\n",
    "\r\n",
    "    def forward(self ,X):\r\n",
    "        return self.out(F.relu(self.hidden(X)))\r\n",
    "\r\n",
    "net = MLP()\r\n",
    "net(X)"
   ],
   "outputs": [
    {
     "output_type": "execute_result",
     "data": {
      "text/plain": [
       "tensor([[ 0.0442,  0.0737, -0.0185,  0.1503, -0.1887, -0.1715,  0.0124, -0.1403,\n",
       "         -0.2638, -0.0591],\n",
       "        [ 0.1509,  0.0680,  0.0347,  0.0245, -0.1741, -0.2068,  0.0878, -0.1278,\n",
       "         -0.3268, -0.0432]], grad_fn=<AddmmBackward>)"
      ]
     },
     "metadata": {},
     "execution_count": 3
    }
   ],
   "metadata": {}
  },
  {
   "cell_type": "code",
   "execution_count": null,
   "source": [],
   "outputs": [],
   "metadata": {}
  }
 ],
 "metadata": {
  "orig_nbformat": 4,
  "language_info": {
   "name": "python",
   "version": "3.7.10",
   "mimetype": "text/x-python",
   "codemirror_mode": {
    "name": "ipython",
    "version": 3
   },
   "pygments_lexer": "ipython3",
   "nbconvert_exporter": "python",
   "file_extension": ".py"
  },
  "kernelspec": {
   "name": "python3",
   "display_name": "Python 3.7.10 64-bit ('pytorch_gpu': conda)"
  },
  "interpreter": {
   "hash": "84b5a4a264b5f2401190ed1ffcbfa61bd7e26a5993c8ba59c52f05bbd4b966aa"
  }
 },
 "nbformat": 4,
 "nbformat_minor": 2
}