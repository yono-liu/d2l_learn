{
 "cells": [
  {
   "cell_type": "code",
   "execution_count": 1,
   "source": [
    "!nvidia-smi"
   ],
   "outputs": [
    {
     "output_type": "stream",
     "name": "stdout",
     "text": [
      "Wed Aug 11 20:27:19 2021       \n",
      "+-----------------------------------------------------------------------------+\n",
      "| NVIDIA-SMI 442.50       Driver Version: 442.50       CUDA Version: 10.2     |\n",
      "|-------------------------------+----------------------+----------------------+\n",
      "| GPU  Name            TCC/WDDM | Bus-Id        Disp.A | Volatile Uncorr. ECC |\n",
      "| Fan  Temp  Perf  Pwr:Usage/Cap|         Memory-Usage | GPU-Util  Compute M. |\n",
      "|===============================+======================+======================|\n",
      "|   0  GeForce GTX 1050   WDDM  | 00000000:01:00.0  On |                  N/A |\n",
      "| N/A   46C    P8    N/A /  N/A |    221MiB /  4096MiB |     29%      Default |\n",
      "+-------------------------------+----------------------+----------------------+\n",
      "                                                                               \n",
      "+-----------------------------------------------------------------------------+\n",
      "| Processes:                                                       GPU Memory |\n",
      "|  GPU       PID   Type   Process name                             Usage      |\n",
      "|=============================================================================|\n",
      "|    0      4552    C+G   D:\\Listary\\Listary.exe                     N/A      |\n",
      "|    0      8388    C+G   ...r\\Acer Quick Access\\ePowerButton_NB.exe N/A      |\n",
      "|    0     16012    C+G   ...pApp\\AcerRegistrationBackGroundTask.exe N/A      |\n",
      "|    0     16616    C+G   Insufficient Permissions                   N/A      |\n",
      "+-----------------------------------------------------------------------------+\n"
     ]
    }
   ],
   "metadata": {}
  },
  {
   "cell_type": "code",
   "execution_count": 2,
   "source": [
    "import torch\r\n",
    "from torch import nn\r\n",
    "\r\n",
    "torch.cuda.device_count()"
   ],
   "outputs": [
    {
     "output_type": "execute_result",
     "data": {
      "text/plain": [
       "1"
      ]
     },
     "metadata": {},
     "execution_count": 2
    }
   ],
   "metadata": {}
  },
  {
   "cell_type": "code",
   "execution_count": 4,
   "source": [
    "def try_gpu(i=0):\r\n",
    "    # 如果存在则返回gpu(i),否则返回cpu()\r\n",
    "    if torch.cuda.device_count() >= i + 1:\r\n",
    "        return torch.device(f'cuda:{i}')\r\n",
    "    return torch.device('cpu')\r\n",
    "\r\n",
    "def try_all_gpu():\r\n",
    "    #return all the gpus, or return cpu\r\n",
    "    devices = [\r\n",
    "        torch.device(f'cuda:{i}') for i in range(torch.cuda.device_count())\r\n",
    "    ]\r\n",
    "    return devices if devices else [torch.device('cpu')]\r\n",
    "\r\n",
    "try_gpu(), try_gpu(10), try_all_gpu()"
   ],
   "outputs": [
    {
     "output_type": "execute_result",
     "data": {
      "text/plain": [
       "(device(type='cuda', index=0),\n",
       " device(type='cpu'),\n",
       " [device(type='cuda', index=0)])"
      ]
     },
     "metadata": {},
     "execution_count": 4
    }
   ],
   "metadata": {}
  },
  {
   "cell_type": "code",
   "execution_count": 12,
   "source": [
    "x = torch.tensor([1.,2.,3.], device=try_gpu())\r\n",
    "x.device"
   ],
   "outputs": [
    {
     "output_type": "execute_result",
     "data": {
      "text/plain": [
       "device(type='cuda', index=0)"
      ]
     },
     "metadata": {},
     "execution_count": 12
    }
   ],
   "metadata": {}
  },
  {
   "cell_type": "code",
   "execution_count": 7,
   "source": [
    "z = x \r\n",
    "x + z"
   ],
   "outputs": [
    {
     "output_type": "execute_result",
     "data": {
      "text/plain": [
       "tensor([2, 4, 6], device='cuda:0')"
      ]
     },
     "metadata": {},
     "execution_count": 7
    }
   ],
   "metadata": {}
  },
  {
   "cell_type": "code",
   "execution_count": 13,
   "source": [
    "net = nn.Sequential(nn.Linear(3,1))\r\n",
    "net = net.to(device = try_gpu())\r\n",
    "net(x)"
   ],
   "outputs": [
    {
     "output_type": "execute_result",
     "data": {
      "text/plain": [
       "tensor([-1.7404], device='cuda:0', grad_fn=<AddBackward0>)"
      ]
     },
     "metadata": {},
     "execution_count": 13
    }
   ],
   "metadata": {}
  },
  {
   "cell_type": "code",
   "execution_count": 14,
   "source": [
    "net[0].weight.data.device"
   ],
   "outputs": [
    {
     "output_type": "execute_result",
     "data": {
      "text/plain": [
       "device(type='cuda', index=0)"
      ]
     },
     "metadata": {},
     "execution_count": 14
    }
   ],
   "metadata": {}
  }
 ],
 "metadata": {
  "orig_nbformat": 4,
  "language_info": {
   "name": "python",
   "version": "3.7.10",
   "mimetype": "text/x-python",
   "codemirror_mode": {
    "name": "ipython",
    "version": 3
   },
   "pygments_lexer": "ipython3",
   "nbconvert_exporter": "python",
   "file_extension": ".py"
  },
  "kernelspec": {
   "name": "python3",
   "display_name": "Python 3.7.10 64-bit ('pytorch_gpu': conda)"
  },
  "interpreter": {
   "hash": "84b5a4a264b5f2401190ed1ffcbfa61bd7e26a5993c8ba59c52f05bbd4b966aa"
  }
 },
 "nbformat": 4,
 "nbformat_minor": 2
}