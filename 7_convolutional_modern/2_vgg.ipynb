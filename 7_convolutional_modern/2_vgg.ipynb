{
 "cells": [
  {
   "cell_type": "code",
   "execution_count": null,
   "source": [
    "import torch\r\n",
    "from torch import nn\r\n",
    "from d2l import torch as d2l\r\n",
    "\r\n",
    "def vgg_block(num_convs, in_channels, out_channels):\r\n",
    "    layers = []\r\n",
    "    for _ in range(num_convs):\r\n",
    "        layers.append(\r\n",
    "            nn.Conv2d(in_channels, out_channels, kernel_size=3, padding=1)\r\n",
    "        )\r\n",
    "        layers.append(nn.ReLU())\r\n",
    "        in_channels = out_channels\r\n",
    "    layers.append(nn.MaxPool2d(kernel_size=2, stride=2))\r\n",
    "    return nn.Sequential(*layers)\r\n"
   ],
   "outputs": [],
   "metadata": {}
  },
  {
   "cell_type": "code",
   "execution_count": null,
   "source": [
    "conv_arch = ((1,64), (1, 128), (2, 256), (2, 512), (2, 512))\r\n",
    "\r\n",
    "def vgg(conv_arch):\r\n",
    "    conv_blks = []\r\n",
    "    in_channels = 1\r\n",
    "    # 卷积层部分\r\n",
    "    for (num_convs, out_channels) in conv_arch:\r\n",
    "        conv_blks.append(vgg_block(num_convs, in_channels, out_channels))\r\n",
    "        in_channels = out_channels\r\n",
    "\r\n",
    "    return nn.Sequential(\r\n",
    "        *conv_blks, nn.Flatten(),\r\n",
    "        #全连接层\r\n",
    "        nn.Linear(out_channels*7*7, 4096), nn.ReLU(),\r\n",
    "        nn.Dropout(0.5), nn.Linear(4096, 4096), nn.ReLU(),\r\n",
    "        nn.Dropout(0.5), nn.Linear(4096, 10)\r\n",
    "    )\r\n",
    "\r\n",
    "net = vgg(conv_arch)"
   ],
   "outputs": [],
   "metadata": {}
  },
  {
   "cell_type": "code",
   "execution_count": null,
   "source": [
    "X = torch.rand(size = (1, 1, 224, 224))\r\n",
    "for blk in net:\r\n",
    "    X = blk(X)\r\n",
    "    print(blk.__class__.__name__,'output shape:\\t', X.shape)"
   ],
   "outputs": [],
   "metadata": {}
  },
  {
   "cell_type": "code",
   "execution_count": null,
   "source": [
    "ratio = 16\r\n",
    "small_conv_arch = [(pair[0], pair[1] // ratio) for pair in conv_arch]\r\n",
    "net = vgg(small_conv_arch)"
   ],
   "outputs": [],
   "metadata": {}
  },
  {
   "cell_type": "code",
   "execution_count": null,
   "source": [
    "lr, num_epochs, batch_size = 0.1, 10, 128\r\n",
    "train_iter, test_iter = d2l.load_data_fashion_mnist(batch_size, resize=224)\r\n",
    "d2l.train_ch6(net, train_iter, test_iter, num_epochs, lr, d2l.try_gpu())"
   ],
   "outputs": [],
   "metadata": {}
  }
 ],
 "metadata": {
  "orig_nbformat": 4,
  "language_info": {
   "name": "python",
   "version": "3.7.10",
   "mimetype": "text/x-python",
   "codemirror_mode": {
    "name": "ipython",
    "version": 3
   },
   "pygments_lexer": "ipython3",
   "nbconvert_exporter": "python",
   "file_extension": ".py"
  },
  "kernelspec": {
   "name": "python3",
   "display_name": "Python 3.7.10 64-bit ('pytorch_gpu': conda)"
  },
  "interpreter": {
   "hash": "84b5a4a264b5f2401190ed1ffcbfa61bd7e26a5993c8ba59c52f05bbd4b966aa"
  }
 },
 "nbformat": 4,
 "nbformat_minor": 2
}