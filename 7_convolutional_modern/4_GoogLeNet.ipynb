{
 "cells": [
  {
   "cell_type": "code",
   "execution_count": 8,
   "source": [
    "import torch\r\n",
    "from torch import nn\r\n",
    "from torch.nn import functional as F\r\n",
    "from d2l import torch as d2l\r\n",
    "\r\n",
    "class Inception(nn.Module):\r\n",
    "    # 'c1'--'c4'是每条路径的输出通道数\r\n",
    "    def __init__(self, in_channels, c1, c2, c3, c4, **kwargs):\r\n",
    "        super(Inception, self).__init__(**kwargs)\r\n",
    "        # path1 only 1*1 conv\r\n",
    "        self.p1_1 = nn.Conv2d(in_channels, c1, kernel_size=1)\r\n",
    "        # path2 1*1 conv + 3*3 conv\r\n",
    "        self.p2_1 = nn.Conv2d(in_channels, c2[0], kernel_size=1)\r\n",
    "        self.p2_2 = nn.Conv2d(c2[0], c2[1], kernel_size=3, padding=1)\r\n",
    "        # path3 1*1 conv + 5*5 conv\r\n",
    "        self.p3_1 = nn.Conv2d(in_channels, c3[0], kernel_size=1)\r\n",
    "        self.p3_2 = nn.Conv2d(c3[0], c3[1], kernel_size=5, padding=2)\r\n",
    "        # 3*3 maxpool + 1*1 conv\r\n",
    "        self.p4_1 = nn.MaxPool2d(kernel_size=3, stride=1, padding=1)\r\n",
    "        self.p4_2 = nn.Conv2d(in_channels, c4, kernel_size=1)\r\n",
    "    \r\n",
    "    def forward(self, x):\r\n",
    "        p1 = F.relu(self.p1_1(x))\r\n",
    "        p2 = F.relu(self.p2_2(F.relu(self.p2_1(x))))\r\n",
    "        p3 = F.relu(self.p3_2(F.relu(self.p3_1(x))))\r\n",
    "        p4 = F.relu(self.p4_2(self.p4_1(x)))\r\n",
    "        # concat at channel dimension\r\n",
    "        return torch.cat((p1, p2, p3, p4), dim=1)"
   ],
   "outputs": [],
   "metadata": {}
  },
  {
   "cell_type": "code",
   "execution_count": 9,
   "source": [
    "b1 = nn.Sequential(nn.Conv2d(1, 64, kernel_size=7, stride=2, padding=3),\r\n",
    "nn.ReLU(), nn.MaxPool2d(kernel_size=3, stride=2, padding=1))\r\n",
    "\r\n",
    "b2 = nn.Sequential(nn.Conv2d(64, 64, kernel_size=1), nn.ReLU(),\r\n",
    "nn.Conv2d(64, 192, kernel_size=3, padding=1), nn.MaxPool2d(kernel_size=3, stride=2, padding=1)) \r\n",
    "\r\n",
    "b3 = nn.Sequential(Inception(192, 64, (96, 128), (16, 32), 32),\r\n",
    "Inception(256, 128, (128, 192), (32, 96), 64),\r\n",
    "nn.MaxPool2d(kernel_size=3, stride=2, padding=1))\r\n",
    "\r\n",
    "b4 = nn.Sequential(Inception(480, 192, (96, 208), (16, 48), 64),\r\n",
    "Inception(512, 160, (112, 224), (24, 64), 64),\r\n",
    "Inception(512, 128, (128, 256), (24, 64), 64),\r\n",
    "Inception(512, 112, (144, 288), (32, 64), 64),\r\n",
    "Inception(528, 256, (160, 320), (32, 128), 128),\r\n",
    "nn.MaxPool2d(kernel_size=3, stride=2, padding=1))\r\n",
    "\r\n",
    "b5 = nn.Sequential(Inception(832, 256, (160, 320), (32, 128), 128),\r\n",
    "Inception(832, 384, (192, 384), (48, 128), 128),\r\n",
    "nn.AdaptiveAvgPool2d((1, 1)), nn.Flatten())\r\n",
    "\r\n",
    "net = nn.Sequential(b1, b2, b3, b4, b5, nn.Linear(1024, 10))"
   ],
   "outputs": [],
   "metadata": {}
  },
  {
   "cell_type": "code",
   "execution_count": 10,
   "source": [
    "X = torch.rand(size = (1, 1, 96, 96))\r\n",
    "for layer in net:\r\n",
    "    X = layer(X)\r\n",
    "    print(layer.__class__.__name__, 'output shape:\\t', X.shape)"
   ],
   "outputs": [
    {
     "output_type": "stream",
     "name": "stdout",
     "text": [
      "Sequential output shape:\t torch.Size([1, 64, 24, 24])\n",
      "Sequential output shape:\t torch.Size([1, 192, 12, 12])\n",
      "Sequential output shape:\t torch.Size([1, 480, 6, 6])\n",
      "Sequential output shape:\t torch.Size([1, 832, 3, 3])\n",
      "Sequential output shape:\t torch.Size([1, 1024])\n",
      "Linear output shape:\t torch.Size([1, 10])\n"
     ]
    }
   ],
   "metadata": {}
  },
  {
   "cell_type": "code",
   "execution_count": null,
   "source": [
    "lr, num_epochs, batch_size = 0.1, 10, 128\r\n",
    "train_iter, test_iter = d2l.load_data_fashion_mnist(batch_size, resize=96)\r\n",
    "d2l.train_ch6(net, train_iter, test_iter, num_epochs, lr, d2l.try_gpu())"
   ],
   "outputs": [],
   "metadata": {}
  }
 ],
 "metadata": {
  "orig_nbformat": 4,
  "language_info": {
   "name": "python",
   "version": "3.7.10",
   "mimetype": "text/x-python",
   "codemirror_mode": {
    "name": "ipython",
    "version": 3
   },
   "pygments_lexer": "ipython3",
   "nbconvert_exporter": "python",
   "file_extension": ".py"
  },
  "kernelspec": {
   "name": "python3",
   "display_name": "Python 3.7.10 64-bit ('pytorch_gpu': conda)"
  },
  "interpreter": {
   "hash": "84b5a4a264b5f2401190ed1ffcbfa61bd7e26a5993c8ba59c52f05bbd4b966aa"
  }
 },
 "nbformat": 4,
 "nbformat_minor": 2
}