{
 "cells": [
  {
   "cell_type": "code",
   "execution_count": null,
   "source": [
    "import torch\r\n",
    "from torch import nn\r\n",
    "from d2l import torch as d2l\r\n",
    "\r\n",
    "net = nn.Sequential(\r\n",
    "    # 首先使用11*11的更大窗口捕捉对象，同时增大步幅减少输出高度和宽度。最后增加输出的通道数\r\n",
    "    nn.Conv2d(1, 96, kernel_size=11, stride=4, padding=1), nn.ReLU(),nn.MaxPool2d(kernel_size=3, stride=2),\r\n",
    "    # 减少卷积窗口，使用padding=2使得输入和输出宽高一致，同时再增大通道数\r\n",
    "    nn.Conv2d(96, 256, kernel_size=5, padding=2), nn.ReLU(), nn.MaxPool2d(kernel_size=3, stride=2),\r\n",
    "    # 使用三个连续的卷积层和较小的卷积窗口，同时不改变宽高，增加通道数\r\n",
    "    nn.Conv2d(256, 384, kernel_size=3, padding=1), nn.ReLU(),\r\n",
    "    nn.Conv2d(384, 384, kernel_size=3, padding=1), nn.ReLU(),\r\n",
    "    nn.Conv2d(384, 256, kernel_size=3, padding=1), nn.ReLU(),\r\n",
    "    nn.MaxPool2d(kernel_size=3, stride=2), nn.Flatten(),\r\n",
    "    # 这里全连接的输出数量是LeNet的几倍，使用dropout层来减轻过拟合\r\n",
    "    nn.Linear(6400, 4096), nn.ReLU(), nn.Dropout(p=0.5),\r\n",
    "    nn.Linear(4096, 4096), nn.ReLU(), nn.Dropout(p=0.5),\r\n",
    "    # 最后是输出层。使用fashion-mnist，所以是10类\r\n",
    "    nn.Linear(4096, 10)\r\n",
    ")"
   ],
   "outputs": [],
   "metadata": {}
  },
  {
   "cell_type": "code",
   "execution_count": null,
   "source": [
    "X = torch.randn(1, 1, 224, 224)\r\n",
    "for layer in net:\r\n",
    "    X = layer(X)\r\n",
    "    print(layer.__class__.__name__, 'output shape:\\t', X.shape)"
   ],
   "outputs": [],
   "metadata": {}
  },
  {
   "cell_type": "code",
   "execution_count": null,
   "source": [
    "batch_size = 128\r\n",
    "train_iter, test_iter = d2l.load_data_fashion_mnist(batch_size, resize=224)"
   ],
   "outputs": [],
   "metadata": {}
  },
  {
   "cell_type": "code",
   "execution_count": null,
   "source": [
    "lr, num_epochs = 0.01, 10\r\n",
    "d2l.train_ch6(net, train_iter, test_iter, num_epochs, lr, d2l.try_gpu())"
   ],
   "outputs": [],
   "metadata": {}
  }
 ],
 "metadata": {
  "orig_nbformat": 4,
  "language_info": {
   "name": "python",
   "version": "3.7.10",
   "mimetype": "text/x-python",
   "codemirror_mode": {
    "name": "ipython",
    "version": 3
   },
   "pygments_lexer": "ipython3",
   "nbconvert_exporter": "python",
   "file_extension": ".py"
  },
  "kernelspec": {
   "name": "python3",
   "display_name": "Python 3.7.10 64-bit ('pytorch_gpu': conda)"
  },
  "interpreter": {
   "hash": "84b5a4a264b5f2401190ed1ffcbfa61bd7e26a5993c8ba59c52f05bbd4b966aa"
  }
 },
 "nbformat": 4,
 "nbformat_minor": 2
}