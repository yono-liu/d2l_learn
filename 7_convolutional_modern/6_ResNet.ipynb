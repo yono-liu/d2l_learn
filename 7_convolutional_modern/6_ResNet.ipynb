{
 "cells": [
  {
   "cell_type": "code",
   "execution_count": 3,
   "source": [
    "import torch\r\n",
    "from torch import nn\r\n",
    "from torch.nn import functional as F\r\n",
    "from d2l import torch as d2l\r\n",
    "\r\n",
    "class Residual(nn.Module):\r\n",
    "    def __init__(self, input_channels, num_channels, use_1x1conv=False, strides=1):\r\n",
    "        super().__init__()\r\n",
    "        self.conv1 = nn.Conv2d(input_channels, num_channels, kernel_size=3, padding=1, stride=strides)\r\n",
    "        self.conv2 = nn.Conv2d(num_channels, num_channels, kernel_size=3, padding=1)\r\n",
    "        if use_1x1conv:\r\n",
    "            self.conv3 = nn.Conv2d(input_channels, num_channels, kernel_size=1, stride=strides)\r\n",
    "        else:\r\n",
    "            self.conv3 = None\r\n",
    "        self.bn1 = nn.BatchNorm2d(num_channels)\r\n",
    "        self.bn2 = nn.BatchNorm2d(num_channels)\r\n",
    "        self.relu = nn.ReLU(inplace=True)\r\n",
    "\r\n",
    "    def forward(self, x):\r\n",
    "        Y = self.relu(self.bn1(self.conv1(x)))\r\n",
    "        Y = self.bn2(self.conv2(Y))\r\n",
    "        if self.conv3:\r\n",
    "            x = self.conv3(x)\r\n",
    "        Y += x\r\n",
    "        return self.relu(Y)"
   ],
   "outputs": [],
   "metadata": {}
  },
  {
   "cell_type": "code",
   "execution_count": 4,
   "source": [
    "# 输入和输出一致的情况\r\n",
    "\r\n",
    "blk = Residual(3, 3)\r\n",
    "X = torch.rand(4, 3, 6, 6)\r\n",
    "Y = blk(X)\r\n",
    "Y.shape"
   ],
   "outputs": [
    {
     "output_type": "execute_result",
     "data": {
      "text/plain": [
       "torch.Size([4, 3, 6, 6])"
      ]
     },
     "metadata": {},
     "execution_count": 4
    }
   ],
   "metadata": {}
  },
  {
   "cell_type": "code",
   "execution_count": 5,
   "source": [
    "blk = Residual(3, 6, use_1x1conv=True, strides=2)\r\n",
    "blk(X).shape"
   ],
   "outputs": [
    {
     "output_type": "execute_result",
     "data": {
      "text/plain": [
       "torch.Size([4, 6, 3, 3])"
      ]
     },
     "metadata": {},
     "execution_count": 5
    }
   ],
   "metadata": {}
  },
  {
   "cell_type": "code",
   "execution_count": 9,
   "source": [
    "b1 = nn.Sequential(nn.Conv2d(1, 64, kernel_size=7, stride=2, padding=3),\r\n",
    "nn.BatchNorm2d(64), nn.ReLU(), nn.MaxPool2d(kernel_size=3, stride=2, padding=1))\r\n",
    "\r\n",
    "def resnet_block(input_channels, num_channels, num_residuals, first_block=False):\r\n",
    "    blk = []\r\n",
    "    for i in range(num_residuals):\r\n",
    "        if i == 0 and not first_block:\r\n",
    "            blk.append(Residual(input_channels, num_channels, use_1x1conv=True, strides=2))\r\n",
    "        else:\r\n",
    "            blk.append(Residual(num_channels, num_channels))\r\n",
    "    return blk\r\n",
    "\r\n",
    "b2 = nn.Sequential(*resnet_block(64, 64, 2, first_block=True))\r\n",
    "b3 = nn.Sequential(*resnet_block(64, 128, 2))\r\n",
    "b4 = nn.Sequential(*resnet_block(128, 256, 2))\r\n",
    "b5 = nn.Sequential(*resnet_block(256, 512, 2))\r\n",
    "\r\n",
    "net = nn.Sequential(b1, b2, b3, b4, b5, nn.AdaptiveAvgPool2d((1, 1)), nn.Flatten(), nn.Linear(512, 10))\r\n"
   ],
   "outputs": [],
   "metadata": {}
  },
  {
   "cell_type": "code",
   "execution_count": 10,
   "source": [
    "X = torch.rand(size=(1, 1, 224, 224))\r\n",
    "for layer in net:\r\n",
    "    X = layer(X)\r\n",
    "    print(layer.__class__.__name__,'output shape:\\t', X.shape)"
   ],
   "outputs": [
    {
     "output_type": "stream",
     "name": "stdout",
     "text": [
      "Sequential output shape:\t torch.Size([1, 64, 56, 56])\n",
      "Sequential output shape:\t torch.Size([1, 64, 56, 56])\n",
      "Sequential output shape:\t torch.Size([1, 128, 28, 28])\n",
      "Sequential output shape:\t torch.Size([1, 256, 14, 14])\n",
      "Sequential output shape:\t torch.Size([1, 512, 7, 7])\n",
      "AdaptiveAvgPool2d output shape:\t torch.Size([1, 512, 1, 1])\n",
      "Flatten output shape:\t torch.Size([1, 512])\n",
      "Linear output shape:\t torch.Size([1, 10])\n"
     ]
    }
   ],
   "metadata": {}
  },
  {
   "cell_type": "code",
   "execution_count": null,
   "source": [
    "lr, num_epochs, batch_size = 0.05, 10, 256\r\n",
    "train_iter, test_iter = d2l.load_data_fashion_mnist(batch_size, resize=96)\r\n",
    "d2l.train_ch6(net, train_iter, test_iter, num_epochs, lr, d2l.try_gpu())"
   ],
   "outputs": [],
   "metadata": {}
  }
 ],
 "metadata": {
  "orig_nbformat": 4,
  "language_info": {
   "name": "python",
   "version": "3.7.10",
   "mimetype": "text/x-python",
   "codemirror_mode": {
    "name": "ipython",
    "version": 3
   },
   "pygments_lexer": "ipython3",
   "nbconvert_exporter": "python",
   "file_extension": ".py"
  },
  "kernelspec": {
   "name": "python3",
   "display_name": "Python 3.7.10 64-bit ('pytorch_gpu': conda)"
  },
  "interpreter": {
   "hash": "84b5a4a264b5f2401190ed1ffcbfa61bd7e26a5993c8ba59c52f05bbd4b966aa"
  }
 },
 "nbformat": 4,
 "nbformat_minor": 2
}