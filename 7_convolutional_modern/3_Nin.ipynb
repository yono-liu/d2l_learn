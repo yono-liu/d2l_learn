{
 "cells": [
  {
   "cell_type": "code",
   "execution_count": null,
   "source": [
    "import torch\r\n",
    "from torch import nn\r\n",
    "from d2l import torch as d2l\r\n",
    "\r\n",
    "# 两个1 × 1 卷积层充当带有 ReLU 激活函数的逐像素全连接层\r\n",
    "def nin_block(in_channels, out_channels, kernel_size, strides, padding):\r\n",
    "    return nn.Sequential(\r\n",
    "        nn.Conv2d(in_channels, out_channels,kernel_size, strides, padding), nn.ReLU(),\r\n",
    "        nn.Conv2d(out_channels, out_channels, kernel_size=1), nn.ReLU(),\r\n",
    "        nn.Conv2d(out_channels, out_channels, kernel_size=1), nn.ReLU()\r\n",
    "    )"
   ],
   "outputs": [],
   "metadata": {}
  },
  {
   "cell_type": "code",
   "execution_count": null,
   "source": [
    "net = nn.Sequential(\r\n",
    "    nin_block(1, 96, kernel_size=11, strides=4, padding=0),\r\n",
    "    nn.MaxPool2d(3, stride=2),\r\n",
    "    nin_block(96, 256, kernel_size=5, strides=1, padding=2),\r\n",
    "    nn.MaxPool2d(3, stride=2),\r\n",
    "    nin_block(256, 384, kernel_size=3, strides=1, padding=1),\r\n",
    "    nn.MaxPool2d(3, stride=2), nn.Dropout(0.5),\r\n",
    "    # 类别是10\r\n",
    "    nin_block(384, 10, kernel_size=3, strides=1, padding=1),\r\n",
    "    # 全局平均池化为1*1\r\n",
    "    nn.AdaptiveAvgPool2d((1, 1)),\r\n",
    "    # 将四维的输出转化为二维的输出，其形状即（batch_size,10)\r\n",
    "    nn.Flatten()\r\n",
    ")"
   ],
   "outputs": [],
   "metadata": {}
  },
  {
   "cell_type": "code",
   "execution_count": null,
   "source": [
    "X = torch.rand(size=(1, 1, 224, 224))\r\n",
    "for layer in net:\r\n",
    "    X = layer(X)\r\n",
    "    print(layer.__class__.__name__, 'output shape:  \\t', X.shape)"
   ],
   "outputs": [],
   "metadata": {}
  },
  {
   "cell_type": "code",
   "execution_count": null,
   "source": [
    "lr, num_epochs, batch_size = 0.1, 1, 128\r\n",
    "train_iter, test_iter = d2l.load_data_fashion_mnist(batch_size, resize=224)\r\n",
    "d2l.train_ch6(net, train_iter, test_iter, num_epochs, lr, d2l.try_gpu())"
   ],
   "outputs": [],
   "metadata": {}
  }
 ],
 "metadata": {
  "orig_nbformat": 4,
  "language_info": {
   "name": "python",
   "version": "3.7.10",
   "mimetype": "text/x-python",
   "codemirror_mode": {
    "name": "ipython",
    "version": 3
   },
   "pygments_lexer": "ipython3",
   "nbconvert_exporter": "python",
   "file_extension": ".py"
  },
  "kernelspec": {
   "name": "python3",
   "display_name": "Python 3.7.10 64-bit ('pytorch_gpu': conda)"
  },
  "interpreter": {
   "hash": "84b5a4a264b5f2401190ed1ffcbfa61bd7e26a5993c8ba59c52f05bbd4b966aa"
  }
 },
 "nbformat": 4,
 "nbformat_minor": 2
}