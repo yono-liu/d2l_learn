{
 "cells": [
  {
   "cell_type": "code",
   "execution_count": 1,
   "source": [
    "import torch\r\n",
    "from torch import nn\r\n",
    "from d2l import torch as d2l\r\n",
    "\r\n",
    "def conv_block(input_channels, num_channels):\r\n",
    "    return nn.Sequential(nn.BatchNorm2d(input_channels),\r\n",
    "    nn.ReLU(), nn.Conv2d(input_channels, num_channels, kernel_size=3, padding=1))\r\n",
    "\r\n",
    "# 稠密快\r\n",
    "class DenseBlock(nn.Module):\r\n",
    "    def __init__(self, num_convs, input_channels, num_channels):\r\n",
    "        super(DenseBlock, self).__init__()\r\n",
    "        layer = []\r\n",
    "        for i in range(num_convs):\r\n",
    "            layer.append(conv_block(input_channels + i*num_channels, num_channels))\r\n",
    "        self.net = nn.Sequential(*layer)\r\n",
    "    \r\n",
    "    def forward(self, X):\r\n",
    "        for blk in self.net:\r\n",
    "            Y = blk(X)\r\n",
    "            # cat在通道维度上的输入和输出，然后作为下一层的输入，但下一层的输出不变 (核心部分)\r\n",
    "            X = torch.cat((X, Y), dim=1)\r\n",
    "        return X"
   ],
   "outputs": [],
   "metadata": {}
  },
  {
   "cell_type": "code",
   "execution_count": 2,
   "source": [
    "blk = DenseBlock(2, 3, 10)\r\n",
    "X = torch.rand(4, 3, 8, 8)\r\n",
    "Y = blk(X)\r\n",
    "Y.shape"
   ],
   "outputs": [
    {
     "output_type": "execute_result",
     "data": {
      "text/plain": [
       "torch.Size([4, 23, 8, 8])"
      ]
     },
     "metadata": {},
     "execution_count": 2
    }
   ],
   "metadata": {}
  },
  {
   "cell_type": "code",
   "execution_count": 4,
   "source": [
    "# 过渡层，减少通道数，高宽也减半\r\n",
    "\r\n",
    "def transition_block(input_channels, num_channels):\r\n",
    "    return nn.Sequential(nn.BatchNorm2d(input_channels), nn.ReLU(),\r\n",
    "    nn.Conv2d(input_channels, num_channels, kernel_size=1),\r\n",
    "    nn.AvgPool2d(kernel_size=2, stride=2))"
   ],
   "outputs": [],
   "metadata": {}
  },
  {
   "cell_type": "code",
   "execution_count": 5,
   "source": [
    "blk = transition_block(23, 10)\r\n",
    "blk(Y).shape"
   ],
   "outputs": [
    {
     "output_type": "execute_result",
     "data": {
      "text/plain": [
       "torch.Size([4, 10, 4, 4])"
      ]
     },
     "metadata": {},
     "execution_count": 5
    }
   ],
   "metadata": {}
  },
  {
   "cell_type": "code",
   "execution_count": 8,
   "source": [
    "b1 = nn.Sequential(nn.Conv2d(1, 64, kernel_size=7, stride=2, padding=3),\r\n",
    "nn.BatchNorm2d(64), nn.ReLU(),\r\n",
    "nn.MaxPool2d(kernel_size=3, stride=2, padding=1))\r\n",
    "\r\n",
    "# ‘num_channels'为当前的通道数\r\n",
    "num_channels, growth_rate = 64, 32\r\n",
    "num_convs_in_dense_blocks = [4, 4, 4, 4]\r\n",
    "blks = []\r\n",
    "for i, num_convs in enumerate(num_convs_in_dense_blocks):\r\n",
    "    blks.append(DenseBlock(num_convs, num_channels, growth_rate))\r\n",
    "    # 上一个稠密块的输出通道数\r\n",
    "    num_channels += num_convs * growth_rate\r\n",
    "    # 除了最后一个稠密块的所有稠密块后面都添加一个过渡层,，减半通道数，宽高\r\n",
    "    if i != len(num_convs_in_dense_blocks) - 1:\r\n",
    "        blks.append(transition_block(num_channels, num_channels // 2))\r\n",
    "        num_channels = num_channels // 2"
   ],
   "outputs": [],
   "metadata": {}
  },
  {
   "cell_type": "code",
   "execution_count": 9,
   "source": [
    "net = nn.Sequential(b1, *blks, nn.BatchNorm2d(num_channels), nn.ReLU(),\r\n",
    "nn.AdaptiveAvgPool2d((1, 1)), nn.Flatten(), nn.Linear(num_channels, 10))"
   ],
   "outputs": [],
   "metadata": {}
  },
  {
   "cell_type": "code",
   "execution_count": null,
   "source": [
    "lr, num_epochs, batch_size = 0.1, 10, 256\r\n",
    "train_iter, test_iter = d2l.load_data_fashion_mnist(batch_size, resize=96)\r\n",
    "d2l.train_ch6(net, train_iter, test_iter, num_epochs, lr, d2l.try_gpu())"
   ],
   "outputs": [],
   "metadata": {}
  }
 ],
 "metadata": {
  "orig_nbformat": 4,
  "language_info": {
   "name": "python",
   "version": "3.7.10",
   "mimetype": "text/x-python",
   "codemirror_mode": {
    "name": "ipython",
    "version": 3
   },
   "pygments_lexer": "ipython3",
   "nbconvert_exporter": "python",
   "file_extension": ".py"
  },
  "kernelspec": {
   "name": "python3",
   "display_name": "Python 3.7.10 64-bit ('pytorch_gpu': conda)"
  },
  "interpreter": {
   "hash": "84b5a4a264b5f2401190ed1ffcbfa61bd7e26a5993c8ba59c52f05bbd4b966aa"
  }
 },
 "nbformat": 4,
 "nbformat_minor": 2
}